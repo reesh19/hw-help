{
 "cells": [
  {
   "cell_type": "code",
   "execution_count": 1,
   "metadata": {},
   "outputs": [],
   "source": [
    "from hwhelp import MathAlacarte"
   ]
  },
  {
   "cell_type": "code",
   "execution_count": 2,
   "metadata": {},
   "outputs": [
    {
     "name": "stderr",
     "output_type": "stream",
     "text": [
      "Grabbing bearer token from OAUTH\n"
     ]
    },
    {
     "name": "stdout",
     "output_type": "stream",
     "text": [
      "\n",
      "Found 8 tweets:\n",
      "\n",
      "0    assignments due assignments help paper pay eng...\n",
      "1    maths pay biology #chem nursing pay assignment...\n",
      "2    managed to take my statistics test without cry...\n",
      "3    stop haunting me vrbo commercial, i’m trying t...\n",
      "4           about to take my math test! wish me luck!!\n",
      "5    having an essay due?  pay someone physics exam...\n",
      "6    now i can move on and do my math assignment yw...\n",
      "7         i’m about to take my math exam i’m gonna cry\n",
      "Name: tweet, dtype: object\n",
      "\n"
     ]
    }
   ],
   "source": [
    "q = \"\"\"((\"take my\" OR \"do my\" OR \"good money\" OR \"give you\" OR \"pay someone\" OR \"pay you\") (test OR exam OR assignment OR midterm OR final OR class OR course) (math OR calc OR calculus OR precalc OR stats OR statistics OR stat OR chemistry OR chem OR biology OR bio OR physics OR phys OR phy)) lang:en -is:retweet -has:media -has:links -has:mentions -is:quote -has:hashtags\"\"\"\n",
    "\n",
    "m = MathAlacarte(q)\n",
    "print(m)"
   ]
  },
  {
   "cell_type": "code",
   "execution_count": 5,
   "metadata": {},
   "outputs": [
    {
     "data": {
      "text/html": [
       "<div>\n",
       "<style scoped>\n",
       "    .dataframe tbody tr th:only-of-type {\n",
       "        vertical-align: middle;\n",
       "    }\n",
       "\n",
       "    .dataframe tbody tr th {\n",
       "        vertical-align: top;\n",
       "    }\n",
       "\n",
       "    .dataframe thead th {\n",
       "        text-align: right;\n",
       "    }\n",
       "</style>\n",
       "<table border=\"1\" class=\"dataframe\">\n",
       "  <thead>\n",
       "    <tr style=\"text-align: right;\">\n",
       "      <th></th>\n",
       "      <th>username</th>\n",
       "      <th>id</th>\n",
       "      <th>tweet</th>\n",
       "    </tr>\n",
       "  </thead>\n",
       "  <tbody>\n",
       "    <tr>\n",
       "      <th>0</th>\n",
       "      <td>Naimapro4</td>\n",
       "      <td>1496537055299620868</td>\n",
       "      <td>assignments due assignments help paper pay eng...</td>\n",
       "    </tr>\n",
       "    <tr>\n",
       "      <th>1</th>\n",
       "      <td>Brainywriters12</td>\n",
       "      <td>1496512330477322241</td>\n",
       "      <td>maths pay biology #chem nursing pay assignment...</td>\n",
       "    </tr>\n",
       "    <tr>\n",
       "      <th>2</th>\n",
       "      <td>mercymornn</td>\n",
       "      <td>1496505720711303170</td>\n",
       "      <td>managed to take my statistics test without cry...</td>\n",
       "    </tr>\n",
       "    <tr>\n",
       "      <th>3</th>\n",
       "      <td>Fireking492</td>\n",
       "      <td>1496483364685156353</td>\n",
       "      <td>stop haunting me vrbo commercial, i’m trying t...</td>\n",
       "    </tr>\n",
       "    <tr>\n",
       "      <th>4</th>\n",
       "      <td>lonelyorigin</td>\n",
       "      <td>1496483024011149332</td>\n",
       "      <td>about to take my math test! wish me luck!!</td>\n",
       "    </tr>\n",
       "    <tr>\n",
       "      <th>5</th>\n",
       "      <td>carlyessays</td>\n",
       "      <td>1496421430598197248</td>\n",
       "      <td>having an essay due?  pay someone physics exam...</td>\n",
       "    </tr>\n",
       "    <tr>\n",
       "      <th>6</th>\n",
       "      <td>Monets101501</td>\n",
       "      <td>1496410365575548929</td>\n",
       "      <td>now i can move on and do my math assignment yw...</td>\n",
       "    </tr>\n",
       "    <tr>\n",
       "      <th>7</th>\n",
       "      <td>mahaepdi</td>\n",
       "      <td>1496372552524267520</td>\n",
       "      <td>i’m about to take my math exam i’m gonna cry</td>\n",
       "    </tr>\n",
       "  </tbody>\n",
       "</table>\n",
       "</div>"
      ],
      "text/plain": [
       "          username                   id  \\\n",
       "0        Naimapro4  1496537055299620868   \n",
       "1  Brainywriters12  1496512330477322241   \n",
       "2       mercymornn  1496505720711303170   \n",
       "3      Fireking492  1496483364685156353   \n",
       "4     lonelyorigin  1496483024011149332   \n",
       "5      carlyessays  1496421430598197248   \n",
       "6     Monets101501  1496410365575548929   \n",
       "7         mahaepdi  1496372552524267520   \n",
       "\n",
       "                                               tweet  \n",
       "0  assignments due assignments help paper pay eng...  \n",
       "1  maths pay biology #chem nursing pay assignment...  \n",
       "2  managed to take my statistics test without cry...  \n",
       "3  stop haunting me vrbo commercial, i’m trying t...  \n",
       "4         about to take my math test! wish me luck!!  \n",
       "5  having an essay due?  pay someone physics exam...  \n",
       "6  now i can move on and do my math assignment yw...  \n",
       "7       i’m about to take my math exam i’m gonna cry  "
      ]
     },
     "execution_count": 5,
     "metadata": {},
     "output_type": "execute_result"
    }
   ],
   "source": [
    "m.tweets_df"
   ]
  },
  {
   "cell_type": "code",
   "execution_count": null,
   "metadata": {},
   "outputs": [],
   "source": []
  }
 ],
 "metadata": {
  "interpreter": {
   "hash": "0ad177932d4d1a104bf1cd217d5e3eb998adc073730b604233446f824660384e"
  },
  "kernelspec": {
   "display_name": "Python 3.10.2 ('hw_help-fDV_iqNr')",
   "language": "python",
   "name": "python3"
  },
  "language_info": {
   "codemirror_mode": {
    "name": "ipython",
    "version": 3
   },
   "file_extension": ".py",
   "mimetype": "text/x-python",
   "name": "python",
   "nbconvert_exporter": "python",
   "pygments_lexer": "ipython3",
   "version": "3.10.2"
  },
  "orig_nbformat": 4
 },
 "nbformat": 4,
 "nbformat_minor": 2
}
